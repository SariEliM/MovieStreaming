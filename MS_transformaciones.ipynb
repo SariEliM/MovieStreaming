{
 "cells": [
  {
   "cell_type": "markdown",
   "metadata": {},
   "source": [
    "Plataforma de Streaming\n",
    "\n",
    "Transformaciones:\t\n",
    "\tAlgunos campos, como belongs_to_collection, production_companies y otros (ver diccionario de datos) están anidados, esto es o bien tienen un diccionario o una lista como valores en cada fila, ¡deberán desanidarlos para poder y unirlos al dataset de nuevo hacer alguna de las consultas de la API! O bien buscar la manera de acceder a esos datos sin desanidarlos.\n",
    "\tDESANIDAR DATOS ANIDADOS\n",
    "\tLos valores nulos de los campos revenue, budget deben ser rellenados por el número 0.\n",
    "\tREVENUE, BUDGET; NULOS RELLENAR CON 0\n",
    "\tLos valores nulos del campo release date deben eliminarse.\n",
    "\tRELEASE: ELIMINAR NULOS\n",
    "\tDe haber fechas, deberán tener el formato AAAA-mm-dd, además deberán crear la columna release_yeardonde extraerán el año de la fecha de estreno.\n",
    "\tCAMPOS FECHA: FORMATEAR A AAAA-MM-DD, CREAR COLUMNA RELEASE_YEAR DE LA FECHA DE ESTRENO\n",
    "\tCrear la columna con el retorno de inversión, llamada return con los campos revenue y budget, dividiendo estas dos últimas revenue / budget, cuando no hay datos disponibles para calcularlo, deberá tomar el valor 0.\n",
    "\tCREAR RETURN: REVENUE/BUDGET, 0 si no hay datos suficientes\n",
    "\tEliminar las columnas que no serán utilizadas, video,imdb_id,adult,original_title,poster_path y homepage.\n",
    "\tELIMINAR VIDEO,IMDB_ID,ADULT,ORIGINAL_TITLE,POSTER_PATH Y HOMEPAGE.\n",
    "\t\n",
    "Funciones\t\n",
    "\tdef cantidad_filmaciones_mes( Mes ): Se ingresa un mes en idioma Español. Debe devolver la cantidad de películas que fueron estrenadas en el mes consultado en la totalidad del dataset.\n",
    "\tEjemplo de retorno: X cantidad de películas fueron estrenadas en el mes de X\n",
    "\tdef cantidad_filmaciones_dia( Dia ): Se ingresa un día en idioma Español. Debe devolver la cantidad de películas que fueron estrenadas en día consultado en la totalidad del dataset.\n",
    "\tEjemplo de retorno: X cantidad de películas fueron estrenadas en los días X\n",
    "\tdef score_titulo( titulo_de_la_filmación ): Se ingresa el título de una filmación esperando como respuesta el título, el año de estreno y el score.\n",
    "\tEjemplo de retorno: La película X fue estrenada en el año X con un score/popularidad de X\n",
    "\tdef votos_titulo( titulo_de_la_filmación ): Se ingresa el título de una filmación esperando como respuesta el título, la cantidad de votos y el valor promedio de las votaciones. La misma variable deberá de contar con al menos 2000 valoraciones, caso contrario, debemos contar con un mensaje avisando que no cumple esta condición y que por ende, no se devuelve ningun valor.\n",
    "\tEjemplo de retorno: La película X fue estrenada en el año X. La misma cuenta con un total de Xvaloraciones, con un promedio de X\n",
    "\tdef get_actor( nombre_actor ): Se ingresa el nombre de un actor que se encuentre dentro de un dataset debiendo devolver el éxito del mismo medido a través del retorno. Además, la cantidad de películas que en las que ha participado y el promedio de retorno. La definición no deberá considerar directores.\n",
    "\tEjemplo de retorno: El actor X ha participado de X cantidad de filmaciones, el mismo ha conseguido un retorno de X con un promedio de X por filmación\n",
    "\tdef get_director( nombre_director ): Se ingresa el nombre de un director que se encuentre dentro de un dataset debiendo devolver el éxito del mismo medido a través del retorno. Además, deberá devolver el nombre de cada película con la fecha de lanzamiento, retorno individual, costo y ganancia de la misma.\n",
    "\t\n",
    "Eda\t\n",
    "\tVer si hay outliers o anomalías (que no tienen que ser errores necesariamente 👀 ), y ver si hay algún patrón interesante que valga la pena explorar en un análisis posterior. \n",
    "\tLas nubes de palabras dan una buena idea de cuáles palabras son más frecuentes en los títulos, ¡podría ayudar al sistema de recomendación!😉\n",
    "\tEl EDA debería incluir gráficas interesantes para extraer datos, como por ejemplo una nube de palabras con las palabras más frecuentes en los títulos de las películas.\n",
    "\t\n",
    "Sistema de recomendación\t\n",
    "\tÉste consiste en recomendar películas a los usuarios basándose en películas similares, por lo que se debe encontrar la similitud de puntuación entre esa película y el resto de películas, se ordenarán según el score de similaridad y devolverá una lista de Python con 5 valores, cada uno siendo el string del nombre de las películas con mayor puntaje, en orden descendente. Debe ser deployado como una función adicional de la API anterior y debe llamarse:\n",
    "\tdef recomendacion( titulo ): Se ingresa el nombre de una película y te recomienda las similares en una lista de 5 valores.\n"
   ]
  }
 ],
 "metadata": {
  "language_info": {
   "name": "python"
  }
 },
 "nbformat": 4,
 "nbformat_minor": 2
}
